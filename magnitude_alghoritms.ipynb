{
 "cells": [
  {
   "cell_type": "markdown",
   "metadata": {},
   "source": [
    "<h2>predicting the alghoritm used to predict magnitude<h2>"
   ]
  },
  {
   "cell_type": "code",
   "execution_count": 103,
   "metadata": {},
   "outputs": [],
   "source": [
    "import pandas as pd \n",
    "import numpy as np\n",
    "import seaborn as sns\n",
    "import matplotlib.pyplot as plt\n",
    "from sklearn import model_selection\n",
    "from sklearn.tree import DecisionTreeClassifier\n",
    "from sklearn.metrics import classification_report,confusion_matrix\n",
    "import random "
   ]
  },
  {
   "cell_type": "code",
   "execution_count": 104,
   "metadata": {},
   "outputs": [],
   "source": [
    "e=pd.read_csv(\"C:/Users/e u n o i a/Downloads/archive(3)/earthquakes.csv\")"
   ]
  },
  {
   "cell_type": "code",
   "execution_count": 105,
   "metadata": {},
   "outputs": [
    {
     "data": {
      "text/html": [
       "<div>\n",
       "<style scoped>\n",
       "    .dataframe tbody tr th:only-of-type {\n",
       "        vertical-align: middle;\n",
       "    }\n",
       "\n",
       "    .dataframe tbody tr th {\n",
       "        vertical-align: top;\n",
       "    }\n",
       "\n",
       "    .dataframe thead th {\n",
       "        text-align: right;\n",
       "    }\n",
       "</style>\n",
       "<table border=\"1\" class=\"dataframe\">\n",
       "  <thead>\n",
       "    <tr style=\"text-align: right;\">\n",
       "      <th></th>\n",
       "      <th>time</th>\n",
       "      <th>latitude</th>\n",
       "      <th>longitude</th>\n",
       "      <th>depth</th>\n",
       "      <th>mag</th>\n",
       "      <th>magType</th>\n",
       "      <th>gap</th>\n",
       "      <th>dmin</th>\n",
       "      <th>rms</th>\n",
       "      <th>id</th>\n",
       "      <th>updated</th>\n",
       "      <th>place</th>\n",
       "      <th>type</th>\n",
       "      <th>horizontalError</th>\n",
       "      <th>depthError</th>\n",
       "      <th>magError</th>\n",
       "      <th>locationSource</th>\n",
       "      <th>magSource</th>\n",
       "    </tr>\n",
       "  </thead>\n",
       "  <tbody>\n",
       "    <tr>\n",
       "      <th>0</th>\n",
       "      <td>2021-12-31T23:47:57.346Z</td>\n",
       "      <td>59.809800</td>\n",
       "      <td>-153.563700</td>\n",
       "      <td>129.200000</td>\n",
       "      <td>2.50</td>\n",
       "      <td>ml</td>\n",
       "      <td>NaN</td>\n",
       "      <td>NaN</td>\n",
       "      <td>0.36</td>\n",
       "      <td>ak021gs14u6z</td>\n",
       "      <td>2022-03-05T23:11:00.040Z</td>\n",
       "      <td>30 km E of Pedro Bay, Alaska</td>\n",
       "      <td>earthquake</td>\n",
       "      <td>NaN</td>\n",
       "      <td>0.200000</td>\n",
       "      <td>NaN</td>\n",
       "      <td>ak</td>\n",
       "      <td>ak</td>\n",
       "    </tr>\n",
       "    <tr>\n",
       "      <th>1</th>\n",
       "      <td>2021-12-31T23:10:35.635Z</td>\n",
       "      <td>54.631600</td>\n",
       "      <td>-163.376200</td>\n",
       "      <td>19.980000</td>\n",
       "      <td>3.40</td>\n",
       "      <td>mb</td>\n",
       "      <td>165.0</td>\n",
       "      <td>0.226000</td>\n",
       "      <td>0.96</td>\n",
       "      <td>us7000gazr</td>\n",
       "      <td>2022-03-05T23:11:13.040Z</td>\n",
       "      <td>24 km S of False Pass, Alaska</td>\n",
       "      <td>earthquake</td>\n",
       "      <td>5.800000</td>\n",
       "      <td>8.600000</td>\n",
       "      <td>0.220000</td>\n",
       "      <td>us</td>\n",
       "      <td>us</td>\n",
       "    </tr>\n",
       "    <tr>\n",
       "      <th>2</th>\n",
       "      <td>2021-12-31T22:56:50.593Z</td>\n",
       "      <td>31.640247</td>\n",
       "      <td>-104.404012</td>\n",
       "      <td>6.131567</td>\n",
       "      <td>2.70</td>\n",
       "      <td>ml</td>\n",
       "      <td>64.0</td>\n",
       "      <td>0.087253</td>\n",
       "      <td>0.20</td>\n",
       "      <td>tx2021zqun</td>\n",
       "      <td>2022-03-05T23:11:00.040Z</td>\n",
       "      <td>59 km S of Whites City, New Mexico</td>\n",
       "      <td>earthquake</td>\n",
       "      <td>1.064476</td>\n",
       "      <td>1.135905</td>\n",
       "      <td>0.100000</td>\n",
       "      <td>tx</td>\n",
       "      <td>tx</td>\n",
       "    </tr>\n",
       "    <tr>\n",
       "      <th>3</th>\n",
       "      <td>2021-12-31T22:41:35.180Z</td>\n",
       "      <td>20.137167</td>\n",
       "      <td>-155.803500</td>\n",
       "      <td>22.050000</td>\n",
       "      <td>2.58</td>\n",
       "      <td>ml</td>\n",
       "      <td>152.0</td>\n",
       "      <td>NaN</td>\n",
       "      <td>0.16</td>\n",
       "      <td>hv72852907</td>\n",
       "      <td>2022-03-05T23:11:00.040Z</td>\n",
       "      <td>10 km S of Kapaau, Hawaii</td>\n",
       "      <td>earthquake</td>\n",
       "      <td>0.610000</td>\n",
       "      <td>0.850000</td>\n",
       "      <td>0.178909</td>\n",
       "      <td>hv</td>\n",
       "      <td>hv</td>\n",
       "    </tr>\n",
       "    <tr>\n",
       "      <th>4</th>\n",
       "      <td>2021-12-31T22:32:17.304Z</td>\n",
       "      <td>36.592200</td>\n",
       "      <td>21.423300</td>\n",
       "      <td>10.000000</td>\n",
       "      <td>4.30</td>\n",
       "      <td>mb</td>\n",
       "      <td>193.0</td>\n",
       "      <td>0.710000</td>\n",
       "      <td>0.54</td>\n",
       "      <td>us7000g88u</td>\n",
       "      <td>2022-03-05T23:11:00.040Z</td>\n",
       "      <td>35 km SW of Meth��ni, Gr</td>\n",
       "      <td>earthquake</td>\n",
       "      <td>4.900000</td>\n",
       "      <td>2.000000</td>\n",
       "      <td>0.216000</td>\n",
       "      <td>us</td>\n",
       "      <td>us</td>\n",
       "    </tr>\n",
       "  </tbody>\n",
       "</table>\n",
       "</div>"
      ],
      "text/plain": [
       "                       time   latitude   longitude       depth   mag magType  \\\n",
       "0  2021-12-31T23:47:57.346Z  59.809800 -153.563700  129.200000  2.50      ml   \n",
       "1  2021-12-31T23:10:35.635Z  54.631600 -163.376200   19.980000  3.40      mb   \n",
       "2  2021-12-31T22:56:50.593Z  31.640247 -104.404012    6.131567  2.70      ml   \n",
       "3  2021-12-31T22:41:35.180Z  20.137167 -155.803500   22.050000  2.58      ml   \n",
       "4  2021-12-31T22:32:17.304Z  36.592200   21.423300   10.000000  4.30      mb   \n",
       "\n",
       "     gap      dmin   rms            id                   updated  \\\n",
       "0    NaN       NaN  0.36  ak021gs14u6z  2022-03-05T23:11:00.040Z   \n",
       "1  165.0  0.226000  0.96    us7000gazr  2022-03-05T23:11:13.040Z   \n",
       "2   64.0  0.087253  0.20    tx2021zqun  2022-03-05T23:11:00.040Z   \n",
       "3  152.0       NaN  0.16    hv72852907  2022-03-05T23:11:00.040Z   \n",
       "4  193.0  0.710000  0.54    us7000g88u  2022-03-05T23:11:00.040Z   \n",
       "\n",
       "                                place        type  horizontalError  \\\n",
       "0        30 km E of Pedro Bay, Alaska  earthquake              NaN   \n",
       "1       24 km S of False Pass, Alaska  earthquake         5.800000   \n",
       "2  59 km S of Whites City, New Mexico  earthquake         1.064476   \n",
       "3           10 km S of Kapaau, Hawaii  earthquake         0.610000   \n",
       "4            35 km SW of Meth��ni, Gr  earthquake         4.900000   \n",
       "\n",
       "   depthError  magError locationSource magSource  \n",
       "0    0.200000       NaN             ak        ak  \n",
       "1    8.600000  0.220000             us        us  \n",
       "2    1.135905  0.100000             tx        tx  \n",
       "3    0.850000  0.178909             hv        hv  \n",
       "4    2.000000  0.216000             us        us  "
      ]
     },
     "execution_count": 105,
     "metadata": {},
     "output_type": "execute_result"
    }
   ],
   "source": [
    "e.head()"
   ]
  },
  {
   "cell_type": "code",
   "execution_count": 106,
   "metadata": {},
   "outputs": [
    {
     "data": {
      "text/plain": [
       "Index(['time', 'latitude', 'longitude', 'depth', 'mag', 'magType', 'gap',\n",
       "       'dmin', 'rms', 'id', 'updated', 'place', 'type', 'horizontalError',\n",
       "       'depthError', 'magError', 'locationSource', 'magSource'],\n",
       "      dtype='object')"
      ]
     },
     "execution_count": 106,
     "metadata": {},
     "output_type": "execute_result"
    }
   ],
   "source": [
    "e.columns\n"
   ]
  },
  {
   "cell_type": "code",
   "execution_count": 107,
   "metadata": {},
   "outputs": [
    {
     "data": {
      "text/plain": [
       "<AxesSubplot:xlabel='count', ylabel='type'>"
      ]
     },
     "execution_count": 107,
     "metadata": {},
     "output_type": "execute_result"
    },
    {
     "data": {
      "image/png": "[encoded data removed]",
      "text/plain": [
       "<Figure size 432x288 with 1 Axes>"
      ]
     },
     "metadata": {
      "needs_background": "light"
     },
     "output_type": "display_data"
    }
   ],
   "source": [
    "sns.countplot(y = \"type\", data = e, palette=\"flare\")"
   ]
  },
  {
   "cell_type": "code",
   "execution_count": 108,
   "metadata": {},
   "outputs": [
    {
     "data": {
      "image/png": "[encoded data removed]",
      "text/plain": [
       "<Figure size 1080x1080 with 2 Axes>"
      ]
     },
     "metadata": {
      "needs_background": "light"
     },
     "output_type": "display_data"
    }
   ],
   "source": [
    "plt.figure(figsize=(15,15))\n",
    "cmap = sns.diverging_palette(200,11,s=20,l=55,n=9,as_cmap=True)\n",
    "sns.heatmap(e.corr(), annot=True, cmap=cmap, center=0)\n",
    "plt.show()"
   ]
  },
  {
   "cell_type": "code",
   "execution_count": 109,
   "metadata": {},
   "outputs": [
    {
     "data": {
      "text/plain": [
       "<AxesSubplot:xlabel='depth', ylabel='magType'>"
      ]
     },
     "execution_count": 109,
     "metadata": {},
     "output_type": "execute_result"
    },
    {
     "data": {
      "image/png": "[encoded data removed]",
      "text/plain": [
       "<Figure size 432x288 with 1 Axes>"
      ]
     },
     "metadata": {
      "needs_background": "light"
     },
     "output_type": "display_data"
    }
   ],
   "source": [
    "sns.boxplot(x = e[\"depth\"], y = e['magType'], palette=\"flare\" )"
   ]
  },
  {
   "cell_type": "markdown",
   "metadata": {},
   "source": [
    "<font color=\"pink\">magTypes => The method or algorithm used to calculate the preferred magnitude for the event. Typical Values “Md”, “Ml”, “Ms”, “Mw”</font>"
   ]
  },
  {
   "cell_type": "code",
   "execution_count": 110,
   "metadata": {},
   "outputs": [
    {
     "data": {
      "text/plain": [
       "<AxesSubplot:xlabel='longitude', ylabel='magType'>"
      ]
     },
     "execution_count": 110,
     "metadata": {},
     "output_type": "execute_result"
    },
    {
     "data": {
      "image/png": "[encoded data removed]",
      "text/plain": [
       "<Figure size 432x288 with 1 Axes>"
      ]
     },
     "metadata": {
      "needs_background": "light"
     },
     "output_type": "display_data"
    }
   ],
   "source": [
    "sns.boxplot(x = e[\"longitude\"], y = e['magType'], palette=\"flare\" )"
   ]
  },
  {
   "cell_type": "code",
   "execution_count": 111,
   "metadata": {},
   "outputs": [
    {
     "data": {
      "text/html": [
       "<div>\n",
       "<style scoped>\n",
       "    .dataframe tbody tr th:only-of-type {\n",
       "        vertical-align: middle;\n",
       "    }\n",
       "\n",
       "    .dataframe tbody tr th {\n",
       "        vertical-align: top;\n",
       "    }\n",
       "\n",
       "    .dataframe thead th {\n",
       "        text-align: right;\n",
       "    }\n",
       "</style>\n",
       "<table border=\"1\" class=\"dataframe\">\n",
       "  <thead>\n",
       "    <tr style=\"text-align: right;\">\n",
       "      <th></th>\n",
       "      <th>time</th>\n",
       "      <th>latitude</th>\n",
       "      <th>longitude</th>\n",
       "      <th>depth</th>\n",
       "      <th>mag</th>\n",
       "      <th>magType</th>\n",
       "      <th>gap</th>\n",
       "      <th>dmin</th>\n",
       "      <th>rms</th>\n",
       "      <th>id</th>\n",
       "      <th>updated</th>\n",
       "      <th>place</th>\n",
       "      <th>type</th>\n",
       "      <th>horizontalError</th>\n",
       "      <th>depthError</th>\n",
       "      <th>magError</th>\n",
       "      <th>locationSource</th>\n",
       "      <th>magSource</th>\n",
       "    </tr>\n",
       "  </thead>\n",
       "  <tbody>\n",
       "    <tr>\n",
       "      <th>0</th>\n",
       "      <td>2021-12-31T23:47:57.346Z</td>\n",
       "      <td>59.809800</td>\n",
       "      <td>-153.563700</td>\n",
       "      <td>129.200000</td>\n",
       "      <td>2.50</td>\n",
       "      <td>ml</td>\n",
       "      <td>NaN</td>\n",
       "      <td>NaN</td>\n",
       "      <td>0.36</td>\n",
       "      <td>ak021gs14u6z</td>\n",
       "      <td>2022-03-05T23:11:00.040Z</td>\n",
       "      <td>30 km E of Pedro Bay, Alaska</td>\n",
       "      <td>earthquake</td>\n",
       "      <td>NaN</td>\n",
       "      <td>0.200000</td>\n",
       "      <td>NaN</td>\n",
       "      <td>ak</td>\n",
       "      <td>ak</td>\n",
       "    </tr>\n",
       "    <tr>\n",
       "      <th>1</th>\n",
       "      <td>2021-12-31T23:10:35.635Z</td>\n",
       "      <td>54.631600</td>\n",
       "      <td>-163.376200</td>\n",
       "      <td>19.980000</td>\n",
       "      <td>3.40</td>\n",
       "      <td>mb</td>\n",
       "      <td>165.0</td>\n",
       "      <td>0.226000</td>\n",
       "      <td>0.96</td>\n",
       "      <td>us7000gazr</td>\n",
       "      <td>2022-03-05T23:11:13.040Z</td>\n",
       "      <td>24 km S of False Pass, Alaska</td>\n",
       "      <td>earthquake</td>\n",
       "      <td>5.800000</td>\n",
       "      <td>8.600000</td>\n",
       "      <td>0.220000</td>\n",
       "      <td>us</td>\n",
       "      <td>us</td>\n",
       "    </tr>\n",
       "    <tr>\n",
       "      <th>2</th>\n",
       "      <td>2021-12-31T22:56:50.593Z</td>\n",
       "      <td>31.640247</td>\n",
       "      <td>-104.404012</td>\n",
       "      <td>6.131567</td>\n",
       "      <td>2.70</td>\n",
       "      <td>ml</td>\n",
       "      <td>64.0</td>\n",
       "      <td>0.087253</td>\n",
       "      <td>0.20</td>\n",
       "      <td>tx2021zqun</td>\n",
       "      <td>2022-03-05T23:11:00.040Z</td>\n",
       "      <td>59 km S of Whites City, New Mexico</td>\n",
       "      <td>earthquake</td>\n",
       "      <td>1.064476</td>\n",
       "      <td>1.135905</td>\n",
       "      <td>0.100000</td>\n",
       "      <td>tx</td>\n",
       "      <td>tx</td>\n",
       "    </tr>\n",
       "    <tr>\n",
       "      <th>3</th>\n",
       "      <td>2021-12-31T22:41:35.180Z</td>\n",
       "      <td>20.137167</td>\n",
       "      <td>-155.803500</td>\n",
       "      <td>22.050000</td>\n",
       "      <td>2.58</td>\n",
       "      <td>ml</td>\n",
       "      <td>152.0</td>\n",
       "      <td>NaN</td>\n",
       "      <td>0.16</td>\n",
       "      <td>hv72852907</td>\n",
       "      <td>2022-03-05T23:11:00.040Z</td>\n",
       "      <td>10 km S of Kapaau, Hawaii</td>\n",
       "      <td>earthquake</td>\n",
       "      <td>0.610000</td>\n",
       "      <td>0.850000</td>\n",
       "      <td>0.178909</td>\n",
       "      <td>hv</td>\n",
       "      <td>hv</td>\n",
       "    </tr>\n",
       "    <tr>\n",
       "      <th>4</th>\n",
       "      <td>2021-12-31T22:32:17.304Z</td>\n",
       "      <td>36.592200</td>\n",
       "      <td>21.423300</td>\n",
       "      <td>10.000000</td>\n",
       "      <td>4.30</td>\n",
       "      <td>mb</td>\n",
       "      <td>193.0</td>\n",
       "      <td>0.710000</td>\n",
       "      <td>0.54</td>\n",
       "      <td>us7000g88u</td>\n",
       "      <td>2022-03-05T23:11:00.040Z</td>\n",
       "      <td>35 km SW of Meth��ni, Gr</td>\n",
       "      <td>earthquake</td>\n",
       "      <td>4.900000</td>\n",
       "      <td>2.000000</td>\n",
       "      <td>0.216000</td>\n",
       "      <td>us</td>\n",
       "      <td>us</td>\n",
       "    </tr>\n",
       "    <tr>\n",
       "      <th>...</th>\n",
       "      <td>...</td>\n",
       "      <td>...</td>\n",
       "      <td>...</td>\n",
       "      <td>...</td>\n",
       "      <td>...</td>\n",
       "      <td>...</td>\n",
       "      <td>...</td>\n",
       "      <td>...</td>\n",
       "      <td>...</td>\n",
       "      <td>...</td>\n",
       "      <td>...</td>\n",
       "      <td>...</td>\n",
       "      <td>...</td>\n",
       "      <td>...</td>\n",
       "      <td>...</td>\n",
       "      <td>...</td>\n",
       "      <td>...</td>\n",
       "      <td>...</td>\n",
       "    </tr>\n",
       "    <tr>\n",
       "      <th>28867</th>\n",
       "      <td>2021-01-01T01:20:09.649Z</td>\n",
       "      <td>-31.319100</td>\n",
       "      <td>-177.934100</td>\n",
       "      <td>10.000000</td>\n",
       "      <td>5.00</td>\n",
       "      <td>mb</td>\n",
       "      <td>86.0</td>\n",
       "      <td>2.067000</td>\n",
       "      <td>0.91</td>\n",
       "      <td>us6000d4pp</td>\n",
       "      <td>2021-03-13T22:58:26.040Z</td>\n",
       "      <td>Kermadec Islands region</td>\n",
       "      <td>earthquake</td>\n",
       "      <td>8.500000</td>\n",
       "      <td>1.800000</td>\n",
       "      <td>0.100000</td>\n",
       "      <td>us</td>\n",
       "      <td>us</td>\n",
       "    </tr>\n",
       "    <tr>\n",
       "      <th>28868</th>\n",
       "      <td>2021-01-01T01:15:42.680Z</td>\n",
       "      <td>17.901500</td>\n",
       "      <td>-66.854000</td>\n",
       "      <td>12.000000</td>\n",
       "      <td>3.01</td>\n",
       "      <td>md</td>\n",
       "      <td>225.0</td>\n",
       "      <td>0.077800</td>\n",
       "      <td>0.11</td>\n",
       "      <td>pr2021001001</td>\n",
       "      <td>2021-03-13T22:58:25.040Z</td>\n",
       "      <td>9 km SSE of Maria Antonia, Puerto Rico</td>\n",
       "      <td>earthquake</td>\n",
       "      <td>0.520000</td>\n",
       "      <td>0.360000</td>\n",
       "      <td>0.190000</td>\n",
       "      <td>pr</td>\n",
       "      <td>pr</td>\n",
       "    </tr>\n",
       "    <tr>\n",
       "      <th>28869</th>\n",
       "      <td>2021-01-01T01:13:18.272Z</td>\n",
       "      <td>13.633000</td>\n",
       "      <td>144.962100</td>\n",
       "      <td>162.730000</td>\n",
       "      <td>4.40</td>\n",
       "      <td>mb</td>\n",
       "      <td>146.0</td>\n",
       "      <td>0.100000</td>\n",
       "      <td>0.74</td>\n",
       "      <td>us6000d7q1</td>\n",
       "      <td>2021-03-13T22:59:56.040Z</td>\n",
       "      <td>13 km NE of Yigo Village, Guam</td>\n",
       "      <td>earthquake</td>\n",
       "      <td>15.700000</td>\n",
       "      <td>3.200000</td>\n",
       "      <td>0.203000</td>\n",
       "      <td>us</td>\n",
       "      <td>us</td>\n",
       "    </tr>\n",
       "    <tr>\n",
       "      <th>28870</th>\n",
       "      <td>2021-01-01T00:40:35.586Z</td>\n",
       "      <td>-52.290900</td>\n",
       "      <td>-4.762200</td>\n",
       "      <td>10.000000</td>\n",
       "      <td>5.30</td>\n",
       "      <td>mww</td>\n",
       "      <td>34.0</td>\n",
       "      <td>16.126000</td>\n",
       "      <td>0.77</td>\n",
       "      <td>us6000d4p7</td>\n",
       "      <td>2021-03-13T22:58:25.040Z</td>\n",
       "      <td>southern Mid-Atlantic Ridge</td>\n",
       "      <td>earthquake</td>\n",
       "      <td>8.600000</td>\n",
       "      <td>1.700000</td>\n",
       "      <td>0.098000</td>\n",
       "      <td>us</td>\n",
       "      <td>us</td>\n",
       "    </tr>\n",
       "    <tr>\n",
       "      <th>28871</th>\n",
       "      <td>2021-01-01T00:14:07.580Z</td>\n",
       "      <td>19.063100</td>\n",
       "      <td>-66.855500</td>\n",
       "      <td>8.000000</td>\n",
       "      <td>3.14</td>\n",
       "      <td>md</td>\n",
       "      <td>284.0</td>\n",
       "      <td>0.648200</td>\n",
       "      <td>0.52</td>\n",
       "      <td>pr2021001029</td>\n",
       "      <td>2021-01-30T09:44:59.873Z</td>\n",
       "      <td>63 km N of Hatillo, Puerto Rico</td>\n",
       "      <td>earthquake</td>\n",
       "      <td>3.800000</td>\n",
       "      <td>5.380000</td>\n",
       "      <td>0.040000</td>\n",
       "      <td>pr</td>\n",
       "      <td>pr</td>\n",
       "    </tr>\n",
       "  </tbody>\n",
       "</table>\n",
       "<p>28872 rows × 18 columns</p>\n",
       "</div>"
      ],
      "text/plain": [
       "                           time   latitude   longitude       depth   mag  \\\n",
       "0      2021-12-31T23:47:57.346Z  59.809800 -153.563700  129.200000  2.50   \n",
       "1      2021-12-31T23:10:35.635Z  54.631600 -163.376200   19.980000  3.40   \n",
       "2      2021-12-31T22:56:50.593Z  31.640247 -104.404012    6.131567  2.70   \n",
       "3      2021-12-31T22:41:35.180Z  20.137167 -155.803500   22.050000  2.58   \n",
       "4      2021-12-31T22:32:17.304Z  36.592200   21.423300   10.000000  4.30   \n",
       "...                         ...        ...         ...         ...   ...   \n",
       "28867  2021-01-01T01:20:09.649Z -31.319100 -177.934100   10.000000  5.00   \n",
       "28868  2021-01-01T01:15:42.680Z  17.901500  -66.854000   12.000000  3.01   \n",
       "28869  2021-01-01T01:13:18.272Z  13.633000  144.962100  162.730000  4.40   \n",
       "28870  2021-01-01T00:40:35.586Z -52.290900   -4.762200   10.000000  5.30   \n",
       "28871  2021-01-01T00:14:07.580Z  19.063100  -66.855500    8.000000  3.14   \n",
       "\n",
       "      magType    gap       dmin   rms            id                   updated  \\\n",
       "0          ml    NaN        NaN  0.36  ak021gs14u6z  2022-03-05T23:11:00.040Z   \n",
       "1          mb  165.0   0.226000  0.96    us7000gazr  2022-03-05T23:11:13.040Z   \n",
       "2          ml   64.0   0.087253  0.20    tx2021zqun  2022-03-05T23:11:00.040Z   \n",
       "3          ml  152.0        NaN  0.16    hv72852907  2022-03-05T23:11:00.040Z   \n",
       "4          mb  193.0   0.710000  0.54    us7000g88u  2022-03-05T23:11:00.040Z   \n",
       "...       ...    ...        ...   ...           ...                       ...   \n",
       "28867      mb   86.0   2.067000  0.91    us6000d4pp  2021-03-13T22:58:26.040Z   \n",
       "28868      md  225.0   0.077800  0.11  pr2021001001  2021-03-13T22:58:25.040Z   \n",
       "28869      mb  146.0   0.100000  0.74    us6000d7q1  2021-03-13T22:59:56.040Z   \n",
       "28870     mww   34.0  16.126000  0.77    us6000d4p7  2021-03-13T22:58:25.040Z   \n",
       "28871      md  284.0   0.648200  0.52  pr2021001029  2021-01-30T09:44:59.873Z   \n",
       "\n",
       "                                        place        type  horizontalError  \\\n",
       "0                30 km E of Pedro Bay, Alaska  earthquake              NaN   \n",
       "1               24 km S of False Pass, Alaska  earthquake         5.800000   \n",
       "2          59 km S of Whites City, New Mexico  earthquake         1.064476   \n",
       "3                   10 km S of Kapaau, Hawaii  earthquake         0.610000   \n",
       "4                    35 km SW of Meth��ni, Gr  earthquake         4.900000   \n",
       "...                                       ...         ...              ...   \n",
       "28867                 Kermadec Islands region  earthquake         8.500000   \n",
       "28868  9 km SSE of Maria Antonia, Puerto Rico  earthquake         0.520000   \n",
       "28869          13 km NE of Yigo Village, Guam  earthquake        15.700000   \n",
       "28870             southern Mid-Atlantic Ridge  earthquake         8.600000   \n",
       "28871         63 km N of Hatillo, Puerto Rico  earthquake         3.800000   \n",
       "\n",
       "       depthError  magError locationSource magSource  \n",
       "0        0.200000       NaN             ak        ak  \n",
       "1        8.600000  0.220000             us        us  \n",
       "2        1.135905  0.100000             tx        tx  \n",
       "3        0.850000  0.178909             hv        hv  \n",
       "4        2.000000  0.216000             us        us  \n",
       "...           ...       ...            ...       ...  \n",
       "28867    1.800000  0.100000             us        us  \n",
       "28868    0.360000  0.190000             pr        pr  \n",
       "28869    3.200000  0.203000             us        us  \n",
       "28870    1.700000  0.098000             us        us  \n",
       "28871    5.380000  0.040000             pr        pr  \n",
       "\n",
       "[28872 rows x 18 columns]"
      ]
     },
     "execution_count": 111,
     "metadata": {},
     "output_type": "execute_result"
    }
   ],
   "source": [
    "e"
   ]
  },
  {
   "cell_type": "code",
   "execution_count": 112,
   "metadata": {},
   "outputs": [
    {
     "data": {
      "text/html": [
       "<div>\n",
       "<style scoped>\n",
       "    .dataframe tbody tr th:only-of-type {\n",
       "        vertical-align: middle;\n",
       "    }\n",
       "\n",
       "    .dataframe tbody tr th {\n",
       "        vertical-align: top;\n",
       "    }\n",
       "\n",
       "    .dataframe thead th {\n",
       "        text-align: right;\n",
       "    }\n",
       "</style>\n",
       "<table border=\"1\" class=\"dataframe\">\n",
       "  <thead>\n",
       "    <tr style=\"text-align: right;\">\n",
       "      <th></th>\n",
       "      <th>time</th>\n",
       "      <th>latitude</th>\n",
       "      <th>longitude</th>\n",
       "      <th>depth</th>\n",
       "      <th>mag</th>\n",
       "      <th>magType</th>\n",
       "      <th>gap</th>\n",
       "      <th>dmin</th>\n",
       "      <th>rms</th>\n",
       "      <th>id</th>\n",
       "      <th>place</th>\n",
       "      <th>type</th>\n",
       "      <th>horizontalError</th>\n",
       "      <th>depthError</th>\n",
       "      <th>magError</th>\n",
       "      <th>locationSource</th>\n",
       "      <th>magSource</th>\n",
       "    </tr>\n",
       "  </thead>\n",
       "  <tbody>\n",
       "    <tr>\n",
       "      <th>0</th>\n",
       "      <td>2021-12-31T23:47:57.346Z</td>\n",
       "      <td>59.809800</td>\n",
       "      <td>-153.563700</td>\n",
       "      <td>129.200000</td>\n",
       "      <td>2.50</td>\n",
       "      <td>ml</td>\n",
       "      <td>NaN</td>\n",
       "      <td>NaN</td>\n",
       "      <td>0.36</td>\n",
       "      <td>ak021gs14u6z</td>\n",
       "      <td>30 km E of Pedro Bay, Alaska</td>\n",
       "      <td>earthquake</td>\n",
       "      <td>NaN</td>\n",
       "      <td>0.200000</td>\n",
       "      <td>NaN</td>\n",
       "      <td>ak</td>\n",
       "      <td>ak</td>\n",
       "    </tr>\n",
       "    <tr>\n",
       "      <th>1</th>\n",
       "      <td>2021-12-31T23:10:35.635Z</td>\n",
       "      <td>54.631600</td>\n",
       "      <td>-163.376200</td>\n",
       "      <td>19.980000</td>\n",
       "      <td>3.40</td>\n",
       "      <td>mb</td>\n",
       "      <td>165.0</td>\n",
       "      <td>0.226000</td>\n",
       "      <td>0.96</td>\n",
       "      <td>us7000gazr</td>\n",
       "      <td>24 km S of False Pass, Alaska</td>\n",
       "      <td>earthquake</td>\n",
       "      <td>5.800000</td>\n",
       "      <td>8.600000</td>\n",
       "      <td>0.220000</td>\n",
       "      <td>us</td>\n",
       "      <td>us</td>\n",
       "    </tr>\n",
       "    <tr>\n",
       "      <th>2</th>\n",
       "      <td>2021-12-31T22:56:50.593Z</td>\n",
       "      <td>31.640247</td>\n",
       "      <td>-104.404012</td>\n",
       "      <td>6.131567</td>\n",
       "      <td>2.70</td>\n",
       "      <td>ml</td>\n",
       "      <td>64.0</td>\n",
       "      <td>0.087253</td>\n",
       "      <td>0.20</td>\n",
       "      <td>tx2021zqun</td>\n",
       "      <td>59 km S of Whites City, New Mexico</td>\n",
       "      <td>earthquake</td>\n",
       "      <td>1.064476</td>\n",
       "      <td>1.135905</td>\n",
       "      <td>0.100000</td>\n",
       "      <td>tx</td>\n",
       "      <td>tx</td>\n",
       "    </tr>\n",
       "    <tr>\n",
       "      <th>3</th>\n",
       "      <td>2021-12-31T22:41:35.180Z</td>\n",
       "      <td>20.137167</td>\n",
       "      <td>-155.803500</td>\n",
       "      <td>22.050000</td>\n",
       "      <td>2.58</td>\n",
       "      <td>ml</td>\n",
       "      <td>152.0</td>\n",
       "      <td>NaN</td>\n",
       "      <td>0.16</td>\n",
       "      <td>hv72852907</td>\n",
       "      <td>10 km S of Kapaau, Hawaii</td>\n",
       "      <td>earthquake</td>\n",
       "      <td>0.610000</td>\n",
       "      <td>0.850000</td>\n",
       "      <td>0.178909</td>\n",
       "      <td>hv</td>\n",
       "      <td>hv</td>\n",
       "    </tr>\n",
       "    <tr>\n",
       "      <th>4</th>\n",
       "      <td>2021-12-31T22:32:17.304Z</td>\n",
       "      <td>36.592200</td>\n",
       "      <td>21.423300</td>\n",
       "      <td>10.000000</td>\n",
       "      <td>4.30</td>\n",
       "      <td>mb</td>\n",
       "      <td>193.0</td>\n",
       "      <td>0.710000</td>\n",
       "      <td>0.54</td>\n",
       "      <td>us7000g88u</td>\n",
       "      <td>35 km SW of Meth��ni, Gr</td>\n",
       "      <td>earthquake</td>\n",
       "      <td>4.900000</td>\n",
       "      <td>2.000000</td>\n",
       "      <td>0.216000</td>\n",
       "      <td>us</td>\n",
       "      <td>us</td>\n",
       "    </tr>\n",
       "    <tr>\n",
       "      <th>...</th>\n",
       "      <td>...</td>\n",
       "      <td>...</td>\n",
       "      <td>...</td>\n",
       "      <td>...</td>\n",
       "      <td>...</td>\n",
       "      <td>...</td>\n",
       "      <td>...</td>\n",
       "      <td>...</td>\n",
       "      <td>...</td>\n",
       "      <td>...</td>\n",
       "      <td>...</td>\n",
       "      <td>...</td>\n",
       "      <td>...</td>\n",
       "      <td>...</td>\n",
       "      <td>...</td>\n",
       "      <td>...</td>\n",
       "      <td>...</td>\n",
       "    </tr>\n",
       "    <tr>\n",
       "      <th>28867</th>\n",
       "      <td>2021-01-01T01:20:09.649Z</td>\n",
       "      <td>-31.319100</td>\n",
       "      <td>-177.934100</td>\n",
       "      <td>10.000000</td>\n",
       "      <td>5.00</td>\n",
       "      <td>mb</td>\n",
       "      <td>86.0</td>\n",
       "      <td>2.067000</td>\n",
       "      <td>0.91</td>\n",
       "      <td>us6000d4pp</td>\n",
       "      <td>Kermadec Islands region</td>\n",
       "      <td>earthquake</td>\n",
       "      <td>8.500000</td>\n",
       "      <td>1.800000</td>\n",
       "      <td>0.100000</td>\n",
       "      <td>us</td>\n",
       "      <td>us</td>\n",
       "    </tr>\n",
       "    <tr>\n",
       "      <th>28868</th>\n",
       "      <td>2021-01-01T01:15:42.680Z</td>\n",
       "      <td>17.901500</td>\n",
       "      <td>-66.854000</td>\n",
       "      <td>12.000000</td>\n",
       "      <td>3.01</td>\n",
       "      <td>md</td>\n",
       "      <td>225.0</td>\n",
       "      <td>0.077800</td>\n",
       "      <td>0.11</td>\n",
       "      <td>pr2021001001</td>\n",
       "      <td>9 km SSE of Maria Antonia, Puerto Rico</td>\n",
       "      <td>earthquake</td>\n",
       "      <td>0.520000</td>\n",
       "      <td>0.360000</td>\n",
       "      <td>0.190000</td>\n",
       "      <td>pr</td>\n",
       "      <td>pr</td>\n",
       "    </tr>\n",
       "    <tr>\n",
       "      <th>28869</th>\n",
       "      <td>2021-01-01T01:13:18.272Z</td>\n",
       "      <td>13.633000</td>\n",
       "      <td>144.962100</td>\n",
       "      <td>162.730000</td>\n",
       "      <td>4.40</td>\n",
       "      <td>mb</td>\n",
       "      <td>146.0</td>\n",
       "      <td>0.100000</td>\n",
       "      <td>0.74</td>\n",
       "      <td>us6000d7q1</td>\n",
       "      <td>13 km NE of Yigo Village, Guam</td>\n",
       "      <td>earthquake</td>\n",
       "      <td>15.700000</td>\n",
       "      <td>3.200000</td>\n",
       "      <td>0.203000</td>\n",
       "      <td>us</td>\n",
       "      <td>us</td>\n",
       "    </tr>\n",
       "    <tr>\n",
       "      <th>28870</th>\n",
       "      <td>2021-01-01T00:40:35.586Z</td>\n",
       "      <td>-52.290900</td>\n",
       "      <td>-4.762200</td>\n",
       "      <td>10.000000</td>\n",
       "      <td>5.30</td>\n",
       "      <td>mww</td>\n",
       "      <td>34.0</td>\n",
       "      <td>16.126000</td>\n",
       "      <td>0.77</td>\n",
       "      <td>us6000d4p7</td>\n",
       "      <td>southern Mid-Atlantic Ridge</td>\n",
       "      <td>earthquake</td>\n",
       "      <td>8.600000</td>\n",
       "      <td>1.700000</td>\n",
       "      <td>0.098000</td>\n",
       "      <td>us</td>\n",
       "      <td>us</td>\n",
       "    </tr>\n",
       "    <tr>\n",
       "      <th>28871</th>\n",
       "      <td>2021-01-01T00:14:07.580Z</td>\n",
       "      <td>19.063100</td>\n",
       "      <td>-66.855500</td>\n",
       "      <td>8.000000</td>\n",
       "      <td>3.14</td>\n",
       "      <td>md</td>\n",
       "      <td>284.0</td>\n",
       "      <td>0.648200</td>\n",
       "      <td>0.52</td>\n",
       "      <td>pr2021001029</td>\n",
       "      <td>63 km N of Hatillo, Puerto Rico</td>\n",
       "      <td>earthquake</td>\n",
       "      <td>3.800000</td>\n",
       "      <td>5.380000</td>\n",
       "      <td>0.040000</td>\n",
       "      <td>pr</td>\n",
       "      <td>pr</td>\n",
       "    </tr>\n",
       "  </tbody>\n",
       "</table>\n",
       "<p>28872 rows × 17 columns</p>\n",
       "</div>"
      ],
      "text/plain": [
       "                           time   latitude   longitude       depth   mag  \\\n",
       "0      2021-12-31T23:47:57.346Z  59.809800 -153.563700  129.200000  2.50   \n",
       "1      2021-12-31T23:10:35.635Z  54.631600 -163.376200   19.980000  3.40   \n",
       "2      2021-12-31T22:56:50.593Z  31.640247 -104.404012    6.131567  2.70   \n",
       "3      2021-12-31T22:41:35.180Z  20.137167 -155.803500   22.050000  2.58   \n",
       "4      2021-12-31T22:32:17.304Z  36.592200   21.423300   10.000000  4.30   \n",
       "...                         ...        ...         ...         ...   ...   \n",
       "28867  2021-01-01T01:20:09.649Z -31.319100 -177.934100   10.000000  5.00   \n",
       "28868  2021-01-01T01:15:42.680Z  17.901500  -66.854000   12.000000  3.01   \n",
       "28869  2021-01-01T01:13:18.272Z  13.633000  144.962100  162.730000  4.40   \n",
       "28870  2021-01-01T00:40:35.586Z -52.290900   -4.762200   10.000000  5.30   \n",
       "28871  2021-01-01T00:14:07.580Z  19.063100  -66.855500    8.000000  3.14   \n",
       "\n",
       "      magType    gap       dmin   rms            id  \\\n",
       "0          ml    NaN        NaN  0.36  ak021gs14u6z   \n",
       "1          mb  165.0   0.226000  0.96    us7000gazr   \n",
       "2          ml   64.0   0.087253  0.20    tx2021zqun   \n",
       "3          ml  152.0        NaN  0.16    hv72852907   \n",
       "4          mb  193.0   0.710000  0.54    us7000g88u   \n",
       "...       ...    ...        ...   ...           ...   \n",
       "28867      mb   86.0   2.067000  0.91    us6000d4pp   \n",
       "28868      md  225.0   0.077800  0.11  pr2021001001   \n",
       "28869      mb  146.0   0.100000  0.74    us6000d7q1   \n",
       "28870     mww   34.0  16.126000  0.77    us6000d4p7   \n",
       "28871      md  284.0   0.648200  0.52  pr2021001029   \n",
       "\n",
       "                                        place        type  horizontalError  \\\n",
       "0                30 km E of Pedro Bay, Alaska  earthquake              NaN   \n",
       "1               24 km S of False Pass, Alaska  earthquake         5.800000   \n",
       "2          59 km S of Whites City, New Mexico  earthquake         1.064476   \n",
       "3                   10 km S of Kapaau, Hawaii  earthquake         0.610000   \n",
       "4                    35 km SW of Meth��ni, Gr  earthquake         4.900000   \n",
       "...                                       ...         ...              ...   \n",
       "28867                 Kermadec Islands region  earthquake         8.500000   \n",
       "28868  9 km SSE of Maria Antonia, Puerto Rico  earthquake         0.520000   \n",
       "28869          13 km NE of Yigo Village, Guam  earthquake        15.700000   \n",
       "28870             southern Mid-Atlantic Ridge  earthquake         8.600000   \n",
       "28871         63 km N of Hatillo, Puerto Rico  earthquake         3.800000   \n",
       "\n",
       "       depthError  magError locationSource magSource  \n",
       "0        0.200000       NaN             ak        ak  \n",
       "1        8.600000  0.220000             us        us  \n",
       "2        1.135905  0.100000             tx        tx  \n",
       "3        0.850000  0.178909             hv        hv  \n",
       "4        2.000000  0.216000             us        us  \n",
       "...           ...       ...            ...       ...  \n",
       "28867    1.800000  0.100000             us        us  \n",
       "28868    0.360000  0.190000             pr        pr  \n",
       "28869    3.200000  0.203000             us        us  \n",
       "28870    1.700000  0.098000             us        us  \n",
       "28871    5.380000  0.040000             pr        pr  \n",
       "\n",
       "[28872 rows x 17 columns]"
      ]
     },
     "execution_count": 112,
     "metadata": {},
     "output_type": "execute_result"
    }
   ],
   "source": [
    "e.drop(\"updated\", axis = \"columns\")"
   ]
  },
  {
   "cell_type": "code",
   "execution_count": 113,
   "metadata": {},
   "outputs": [
    {
     "data": {
      "text/plain": [
       "Index(['time', 'latitude', 'longitude', 'depth', 'mag', 'magType', 'gap',\n",
       "       'dmin', 'rms', 'id', 'updated', 'place', 'type', 'horizontalError',\n",
       "       'depthError', 'magError', 'locationSource', 'magSource'],\n",
       "      dtype='object')"
      ]
     },
     "execution_count": 113,
     "metadata": {},
     "output_type": "execute_result"
    }
   ],
   "source": [
    "e.columns"
   ]
  },
  {
   "cell_type": "code",
   "execution_count": 114,
   "metadata": {},
   "outputs": [],
   "source": [
    "e = e[['latitude', 'longitude', 'depth', 'mag', 'gap', 'dmin',\n",
    "       'rms', 'updated', 'type', 'horizontalError', 'depthError', 'magError',\n",
    "       'locationSource', 'magSource', 'magType']]"
   ]
  },
  {
   "cell_type": "code",
   "execution_count": 115,
   "metadata": {},
   "outputs": [
    {
     "data": {
      "text/plain": [
       "<AxesSubplot:xlabel='mag', ylabel='magType'>"
      ]
     },
     "execution_count": 115,
     "metadata": {},
     "output_type": "execute_result"
    },
    {
     "data": {
      "image/png": "[encoded data removed]",
      "text/plain": [
       "<Figure size 432x288 with 1 Axes>"
      ]
     },
     "metadata": {
      "needs_background": "light"
     },
     "output_type": "display_data"
    }
   ],
   "source": [
    "sns.boxplot(x = e[\"mag\"], y = e['magType'], palette=\"flare\" )"
   ]
  },
  {
   "cell_type": "code",
   "execution_count": 116,
   "metadata": {},
   "outputs": [
    {
     "data": {
      "text/plain": [
       "<AxesSubplot:xlabel='latitude', ylabel='magType'>"
      ]
     },
     "execution_count": 116,
     "metadata": {},
     "output_type": "execute_result"
    },
    {
     "data": {
      "image/png": "[encoded data removed]",
      "text/plain": [
       "<Figure size 432x288 with 1 Axes>"
      ]
     },
     "metadata": {
      "needs_background": "light"
     },
     "output_type": "display_data"
    }
   ],
   "source": [
    "sns.boxplot(x = e[\"latitude\"], y = e['magType'], palette=\"flare\" )"
   ]
  },
  {
   "cell_type": "code",
   "execution_count": 117,
   "metadata": {},
   "outputs": [
    {
     "data": {
      "text/plain": [
       "<AxesSubplot:xlabel='gap', ylabel='magType'>"
      ]
     },
     "execution_count": 117,
     "metadata": {},
     "output_type": "execute_result"
    },
    {
     "data": {
      "image/png": "[encoded data removed]",
      "text/plain": [
       "<Figure size 432x288 with 1 Axes>"
      ]
     },
     "metadata": {
      "needs_background": "light"
     },
     "output_type": "display_data"
    }
   ],
   "source": [
    "sns.boxplot(x = e[\"gap\"], y = e['magType'], palette=\"flare\" )"
   ]
  },
  {
   "cell_type": "code",
   "execution_count": 118,
   "metadata": {},
   "outputs": [
    {
     "data": {
      "text/plain": [
       "<AxesSubplot:xlabel='magError', ylabel='magType'>"
      ]
     },
     "execution_count": 118,
     "metadata": {},
     "output_type": "execute_result"
    },
    {
     "data": {
      "image/png": "[encoded data removed]",
      "text/plain": [
       "<Figure size 432x288 with 1 Axes>"
      ]
     },
     "metadata": {
      "needs_background": "light"
     },
     "output_type": "display_data"
    }
   ],
   "source": [
    "sns.boxplot(x = e[\"magError\"], y = e['magType'], palette=\"flare\" )"
   ]
  },
  {
   "cell_type": "code",
   "execution_count": 119,
   "metadata": {},
   "outputs": [],
   "source": [
    "e = e.drop(\"updated\", axis=\"columns\")"
   ]
  },
  {
   "cell_type": "code",
   "execution_count": 120,
   "metadata": {},
   "outputs": [],
   "source": [
    "e=e.drop('locationSource', axis=\"columns\")"
   ]
  },
  {
   "cell_type": "code",
   "execution_count": 121,
   "metadata": {},
   "outputs": [],
   "source": [
    "e=e.drop('type', axis=\"columns\")"
   ]
  },
  {
   "cell_type": "code",
   "execution_count": 122,
   "metadata": {},
   "outputs": [
    {
     "data": {
      "text/plain": [
       "Index(['latitude', 'longitude', 'depth', 'mag', 'gap', 'dmin', 'rms',\n",
       "       'horizontalError', 'depthError', 'magError', 'magType', 'magSource_av',\n",
       "       'magSource_ci', 'magSource_ew', 'magSource_gcmt', 'magSource_guc',\n",
       "       'magSource_hv', 'magSource_mb', 'magSource_nc', 'magSource_nm',\n",
       "       'magSource_nn', 'magSource_ok', 'magSource_pgc', 'magSource_pr',\n",
       "       'magSource_se', 'magSource_slm', 'magSource_tx', 'magSource_us',\n",
       "       'magSource_uu', 'magSource_uw', 'magSource_zamg'],\n",
       "      dtype='object')"
      ]
     },
     "execution_count": 122,
     "metadata": {},
     "output_type": "execute_result"
    }
   ],
   "source": [
    "e=pd.get_dummies(data=e,columns=[\"magSource\"],drop_first=True)\n",
    "e.columns"
   ]
  },
  {
   "cell_type": "code",
   "execution_count": 123,
   "metadata": {},
   "outputs": [],
   "source": [
    "e=e[['latitude', 'longitude', 'depth', 'mag', 'gap', 'dmin', 'rms',\n",
    "       'horizontalError', 'depthError', 'magError', 'magSource_av',\n",
    "       'magSource_ci', 'magSource_ew', 'magSource_gcmt', 'magSource_guc',\n",
    "       'magSource_hv', 'magSource_mb', 'magSource_nc', 'magSource_nm',\n",
    "       'magSource_nn', 'magSource_ok', 'magSource_pgc', 'magSource_pr',\n",
    "       'magSource_se', 'magSource_slm', 'magSource_tx', 'magSource_us',\n",
    "       'magSource_uu', 'magSource_uw', 'magSource_zamg', 'magType']]"
   ]
  },
  {
   "cell_type": "code",
   "execution_count": 126,
   "metadata": {},
   "outputs": [],
   "source": [
    "e=e.dropna() #dropping NaN"
   ]
  },
  {
   "cell_type": "code",
   "execution_count": 132,
   "metadata": {},
   "outputs": [],
   "source": [
    "array = e.values\n",
    "random.shuffle(array)\n",
    "random.shuffle(array)\n",
    "X = array[:,0:30]\n",
    "Y = array[:,30]\n",
    "\n",
    "validation_size = 0.1\n",
    "seed = 101\n",
    "X_train, X_test, Y_train, Y_test = model_selection.train_test_split(X, Y, test_size = validation_size, random_state = seed)"
   ]
  },
  {
   "cell_type": "code",
   "execution_count": 133,
   "metadata": {},
   "outputs": [
    {
     "data": {
      "text/plain": [
       "array(['ml', 'mb', 'ml', ..., 'ml', 'ml', 'mb'], dtype=object)"
      ]
     },
     "execution_count": 133,
     "metadata": {},
     "output_type": "execute_result"
    }
   ],
   "source": [
    "mod = DecisionTreeClassifier() \n",
    "mod.fit(X_train,Y_train)\n",
    "pred = mod.predict(X_test)\n",
    "pred"
   ]
  },
  {
   "cell_type": "code",
   "execution_count": 134,
   "metadata": {},
   "outputs": [
    {
     "name": "stdout",
     "output_type": "stream",
     "text": [
      "              precision    recall  f1-score   support\n",
      "\n",
      "          mb       1.00      1.00      1.00      1578\n",
      "       mb_lg       1.00      0.94      0.97        17\n",
      "          md       0.99      1.00      1.00       281\n",
      "          ml       1.00      1.00      1.00       478\n",
      "         mwr       0.85      0.93      0.89        30\n",
      "         mww       0.98      0.98      0.98       134\n",
      "\n",
      "    accuracy                           0.99      2518\n",
      "   macro avg       0.97      0.97      0.97      2518\n",
      "weighted avg       0.99      0.99      0.99      2518\n",
      "\n"
     ]
    }
   ],
   "source": [
    "report = classification_report(Y_test,pred)\n",
    "print(report)"
   ]
  },
  {
   "cell_type": "code",
   "execution_count": 135,
   "metadata": {},
   "outputs": [],
   "source": [
    "preds = pd.DataFrame({'y_pred': pred, 'y_test':Y_test})\n",
    "preds = preds.sort_values(by='y_test')\n",
    "preds = preds.reset_index()"
   ]
  },
  {
   "cell_type": "code",
   "execution_count": 136,
   "metadata": {},
   "outputs": [
    {
     "data": {
      "image/png": "[encoded data removed]",
      "text/plain": [
       "<Figure size 1080x360 with 1 Axes>"
      ]
     },
     "metadata": {
      "needs_background": "light"
     },
     "output_type": "display_data"
    }
   ],
   "source": [
    "plt.figure(figsize=(15, 5))\n",
    "plt.plot(preds['y_pred'], label='pred', color=\"pink\")\n",
    "plt.plot(preds['y_test'], label='actual', color=\"brown\")\n",
    "plt.legend()\n",
    "plt.show()"
   ]
  }
 ],
 "metadata": {
  "kernelspec": {
   "display_name": "Python 3.8.8 ('base')",
   "language": "python",
   "name": "python3"
  },
  "language_info": {
   "codemirror_mode": {
    "name": "ipython",
    "version": 3
   },
   "file_extension": ".py",
   "mimetype": "text/x-python",
   "name": "python",
   "nbconvert_exporter": "python",
   "pygments_lexer": "ipython3",
   "version": "3.8.8"
  },
  "orig_nbformat": 4,
  "vscode": {
   "interpreter": {
    "hash": "ef83f917d49b1d077494390a9192c3d0581556309075771db6cb8399a3e71981"
   }
  }
 },
 "nbformat": 4,
 "nbformat_minor": 2
}
